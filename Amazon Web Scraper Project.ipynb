{
 "cells": [
  {
   "cell_type": "markdown",
   "id": "c5ede3da-d20b-4fba-8f9c-3910508ecd64",
   "metadata": {},
   "source": [
    "# Amazon Web Scraper Project"
   ]
  },
  {
   "cell_type": "code",
   "execution_count": 1,
   "id": "376ec016-6b78-4575-a8fb-b55fd334131a",
   "metadata": {},
   "outputs": [],
   "source": [
    "# Import libraries \n",
    "from bs4 import BeautifulSoup\n",
    "import requests\n",
    "import time\n",
    "import datetime"
   ]
  },
  {
   "cell_type": "code",
   "execution_count": 3,
   "id": "2cdb06b6-ac14-40b4-9902-7ab2fc8db918",
   "metadata": {},
   "outputs": [],
   "source": [
    "# Connect to Website and Pull in data\n",
    "URL = 'https://www.amazon.com/Funny-Data-Systems-Business-Analyst/dp/B07FNW9FGJ/ref=sr_1_3?dchild=1&keywords=data%2Banalyst%2Btshirt&qid=1626655184&sr=8-3&customId=B0752XJYNL&th=1'\n",
    "page = requests.get(URL)\n",
    "soup1 = BeautifulSoup(page.content, \"html.parser\")\n",
    "soup2 = BeautifulSoup(soup1.prettify(), \"html.parser\")"
   ]
  },
  {
   "cell_type": "code",
   "execution_count": 4,
   "id": "ff03d2be-3282-4f35-9206-d16b1d06846f",
   "metadata": {},
   "outputs": [
    {
     "name": "stdout",
     "output_type": "stream",
     "text": [
      "Got Data Funny Business Data Analyst T-Shirt\n",
      "$15.99\n"
     ]
    }
   ],
   "source": [
    "# Find interesting data\n",
    "title = soup2.find(id='productTitle').get_text(strip=True)\n",
    "\n",
    "price_symbol = soup2.find(class_='a-price-symbol').get_text(strip=True)\n",
    "price_whole = soup2.find(class_='a-price-whole').get_text(strip=True)\n",
    "price_fraction = soup2.find(class_='a-price-fraction').get_text(strip=True)\n",
    "price = f'{price_symbol}{price_whole}{price_fraction}'\n",
    "\n",
    "print(title)\n",
    "print(price)"
   ]
  },
  {
   "cell_type": "code",
   "execution_count": 7,
   "id": "1de9b45c-ed84-4957-bd91-c26dd4dd8f6b",
   "metadata": {},
   "outputs": [
    {
     "name": "stdout",
     "output_type": "stream",
     "text": [
      "Got Data Funny Business Data Analyst T-Shirt\n",
      "15.99\n"
     ]
    }
   ],
   "source": [
    "# Clean up the data\n",
    "title = title.strip()\n",
    "price = price.strip()[1:] # to delete the dollar\n",
    "print(title)\n",
    "print(price)"
   ]
  },
  {
   "cell_type": "code",
   "execution_count": 9,
   "id": "3d84624c-4ec3-4c6f-ba7b-bbcd1487e22b",
   "metadata": {},
   "outputs": [
    {
     "name": "stdout",
     "output_type": "stream",
     "text": [
      "2025-01-14\n"
     ]
    }
   ],
   "source": [
    "# Get current date\n",
    "import datetime\n",
    "today = datetime.date.today()\n",
    "print(today)"
   ]
  },
  {
   "cell_type": "code",
   "execution_count": 11,
   "id": "05f81288-6b47-48a7-a9be-42b864e4855a",
   "metadata": {},
   "outputs": [],
   "source": [
    "# Insert data in a CSV\n",
    "import csv\n",
    "\n",
    "# create the header\n",
    "header = ['Title', 'Price', 'Date']\n",
    "data = [title, price, today]\n",
    "\n",
    "# create a csv and insert data\n",
    "with open('AmazonWebScraperDataset.csv','w', newline='', encoding='UTF8') as f:\n",
    "    writer = csv.writer(f)\n",
    "    writer.writerow(header)\n",
    "    writer.writerow(data)"
   ]
  },
  {
   "cell_type": "code",
   "execution_count": 13,
   "id": "a0ddb57b-ab27-4433-8ce4-fe2521f54c1a",
   "metadata": {},
   "outputs": [
    {
     "name": "stdout",
     "output_type": "stream",
     "text": [
      "                                          Title  Price        Date\n",
      "0  Got Data Funny Business Data Analyst T-Shirt  15.99  2025-01-14\n"
     ]
    }
   ],
   "source": [
    "# Show the CSV\n",
    "import pandas as pd\n",
    "df = pd.read_csv(r\"C:\\Users\\33699\\AmazonWebScraperDataset.csv\")\n",
    "print(df)"
   ]
  },
  {
   "cell_type": "code",
   "execution_count": 15,
   "id": "d903b995-0d3b-4318-85dc-9c4e7a0a4ae3",
   "metadata": {},
   "outputs": [],
   "source": [
    "# Append autonomously data to this CSV\n",
    "with open('AmazonWebScraperDataset.csv','a+', newline='', encoding='UTF8') as f:\n",
    "    writer = csv.writer(f)\n",
    "    writer.writerow(data)"
   ]
  },
  {
   "cell_type": "code",
   "execution_count": 17,
   "id": "b334578c-0bea-4bcf-b249-d2da2d919dd4",
   "metadata": {},
   "outputs": [],
   "source": [
    "# Combine all of the above code into one function\n",
    "def check_price():\n",
    "    \n",
    "    URL = 'https://www.amazon.com/Funny-Data-Systems-Business-Analyst/dp/B07FNW9FGJ/ref=sr_1_3?dchild=1&keywords=data%2Banalyst%2Btshirt&qid=1626655184&sr=8-3&customId=B0752XJYNL&th=1'\n",
    "    page = requests.get(URL)  \n",
    "    soup1 = BeautifulSoup(page.content, \"html.parser\")\n",
    "    soup2 = BeautifulSoup(soup1.prettify(), \"html.parser\")\n",
    "    title = soup2.find(id='productTitle').get_text(strip=True)\n",
    "    price_symbol = soup2.find(class_='a-price-symbol').get_text(strip=True)\n",
    "    price_whole = soup2.find(class_='a-price-whole').get_text(strip=True)\n",
    "    price_fraction = soup2.find(class_='a-price-fraction').get_text(strip=True)\n",
    "    price = f'{price_symbol}{price_whole}{price_fraction}'\n",
    "    title = title.strip()\n",
    "    price = price.strip()[1:] # to delete the dollar\n",
    "    \n",
    "    import datetime\n",
    "    today = datetime.date.today()   \n",
    "\n",
    "    import csv\n",
    "    # create the header\n",
    "    header = ['Title', 'Price', 'Date']\n",
    "    data = [title, price, today]\n",
    "\n",
    "    with open('AmazonWebScraperDataset.csv','a+', newline='', encoding='UTF8') as f:\n",
    "        writer = csv.writer(f)\n",
    "        writer.writerow(data)"
   ]
  },
  {
   "cell_type": "code",
   "execution_count": null,
   "id": "312329f5-bdf3-45e7-95ce-a87d651813c6",
   "metadata": {},
   "outputs": [],
   "source": [
    "# Runs this function after a set time and inputs data into the CSV\n",
    "while(True):\n",
    "    check_price()\n",
    "    time.sleep(86400) # it will run through this process every 86400 sec = every day"
   ]
  },
  {
   "cell_type": "code",
   "execution_count": null,
   "id": "15d5397f-cdf4-4bfc-85c8-cdd4bcc9936f",
   "metadata": {},
   "outputs": [],
   "source": [
    "# Show the CSV\n",
    "import pandas as pd\n",
    "df = pd.read_csv(r\"C:\\Users\\33699\\AmazonWebScraperDataset.csv\")\n",
    "print(df)"
   ]
  },
  {
   "cell_type": "code",
   "execution_count": null,
   "id": "33db6853-b14c-4659-b170-4609f5885dbd",
   "metadata": {},
   "outputs": [],
   "source": []
  }
 ],
 "metadata": {
  "kernelspec": {
   "display_name": "Python [conda env:base] *",
   "language": "python",
   "name": "conda-base-py"
  },
  "language_info": {
   "codemirror_mode": {
    "name": "ipython",
    "version": 3
   },
   "file_extension": ".py",
   "mimetype": "text/x-python",
   "name": "python",
   "nbconvert_exporter": "python",
   "pygments_lexer": "ipython3",
   "version": "3.12.7"
  }
 },
 "nbformat": 4,
 "nbformat_minor": 5
}
